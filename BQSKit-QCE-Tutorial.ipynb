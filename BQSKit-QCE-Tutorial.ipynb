{
 "cells": [
  {
   "cell_type": "markdown",
   "id": "cdfbec9a",
   "metadata": {},
   "source": [
    "# BQSKit Tutorial at IEEE Quantum Week\n",
    "\n",
    "`$ pip install bqskit`\n",
    "\n",
    "This tutorial will cover synthesis and circuit optimization techniques with BQSKit.\n",
    "\n",
    "With bottom-up synthesis, I have discovered an important philosophy that will repeatedly come up in this tutorial:\n",
    "\n",
    "**Synthesis tools that quickly explore deeper circuits will produces longer circuits faster**."
   ]
  },
  {
   "cell_type": "markdown",
   "id": "9455ef50",
   "metadata": {},
   "source": [
    "## Search-Based Synthesis"
   ]
  },
  {
   "cell_type": "markdown",
   "id": "525d7449",
   "metadata": {},
   "source": [
    "BQSKit implements both the QSearch and LEAP algorithms and are well integrated into the BQSKit framework. These implementations are fully portable and topology-aware.\n",
    "\n",
    "1) Let's start with a simple example using QSearch off-the-shelf to synthesize a toffoli circuit:"
   ]
  },
  {
   "cell_type": "code",
   "execution_count": null,
   "id": "100179fb",
   "metadata": {},
   "outputs": [],
   "source": [
    "from bqskit import Circuit\n",
    "from bqskit import Compiler\n",
    "from bqskit import UnitaryMatrix\n",
    "from bqskit import CompilationTask\n",
    "from bqskit.passes import QSearchSynthesisPass\n",
    "\n",
    "# Encode the toffoli unitary\n",
    "toffoli_unitary = UnitaryMatrix([\n",
    "    [1, 0, 0, 0, 0, 0, 0, 0],\n",
    "    [0, 1, 0, 0, 0, 0, 0, 0],\n",
    "    [0, 0, 1, 0, 0, 0, 0, 0],\n",
    "    [0, 0, 0, 1, 0, 0, 0, 0],\n",
    "    [0, 0, 0, 0, 1, 0, 0, 0],\n",
    "    [0, 0, 0, 0, 0, 1, 0, 0],\n",
    "    [0, 0, 0, 0, 0, 0, 0, 1],\n",
    "    [0, 0, 0, 0, 0, 0, 1, 0],\n",
    "])\n",
    "\n",
    "# Inputs to the BQSKit compiler must be a circuit\n",
    "# So first we place the toffoli unitary into a circuit\n",
    "# Note: NumPy arrays are interchangable with UnitaryMatrix objects\n",
    "circuit = Circuit.from_unitary(toffoli_unitary)\n",
    "\n",
    "# We must now tell the compiler that we would like to execute QSearch\n",
    "# This is done by creating a CompilationTask with the circuit as the input\n",
    "# and only a QSearchSynthesisPass object in the workflow.\n",
    "task = CompilationTask(circuit, [QSearchSynthesisPass()])\n",
    "\n",
    "# Finally, we construct a compiler and submit the task\n",
    "with Compiler() as compiler:\n",
    "    synthesized_circuit = compiler.compile(task)\n",
    "    \n",
    "print(synthesized_circuit)"
   ]
  },
  {
   "cell_type": "code",
   "execution_count": null,
   "id": "1e43f5a9",
   "metadata": {},
   "outputs": [],
   "source": [
    "# We can print some information about the circuit\n",
    "\n",
    "# Display the length of the critical path in the circuit\n",
    "print(\"Critial Path Length:\", synthesized_circuit.depth)\n",
    "\n",
    "# Display the parallelism in the circuit\n",
    "print(\"Parallelism:\", synthesized_circuit.parallelism)\n",
    "\n",
    "# Display the total number of gates\n",
    "print(\"Total Number of Operations:\", synthesized_circuit.num_operations)\n",
    "\n",
    "# As well as specific numbers\n",
    "from bqskit.ir.gates import CNOTGate, U3Gate\n",
    "print(\"CNOT Count:\", synthesized_circuit.count(CNOTGate()))\n",
    "print(\"U3 Count:\", synthesized_circuit.count(U3Gate()))\n",
    "\n",
    "# We can even see the logical connectivity of the circuit\n",
    "print(\"Interacting Qubit Pairs:\", synthesized_circuit.coupling_graph)"
   ]
  },
  {
   "cell_type": "markdown",
   "id": "f7c66317",
   "metadata": {},
   "source": [
    "### Accuracy\n",
    "\n",
    "BQSKit's algorithms are all approximate, meaning that the results might be slightly different than the inputs. This is controllable and most of the time is at the floating-point level. However, we should always check our results when possible:"
   ]
  },
  {
   "cell_type": "code",
   "execution_count": null,
   "id": "df31ab79",
   "metadata": {},
   "outputs": [],
   "source": [
    "out_utry = synthesized_circuit.get_unitary()\n",
    "out_utry.get_distance_from(toffoli_unitary)"
   ]
  },
  {
   "cell_type": "markdown",
   "id": "98877779",
   "metadata": {},
   "source": [
    "This function uses a metric based on the Hilbert-Schmidt inner product:\n",
    "\n",
    "$$| U_T - U_C | = \\sqrt{1 - \\frac{|Tr(U_T^\\dagger U_C)|}{2^n}^2}$$\n",
    "\n",
    "This distance is global phase agnostic meaning that $U_T$ and $U_C$ are considered equal if they differ by only a global phase.\n",
    "\n",
    "**Change Target Accuracy**\n",
    "If the degree of approximation is too large you can adjust the `success_threshold` parameter in QSearch. This parameter is used to determine convergence of the algorithm. If the unitary implemented by the circuit differs from the target unitary by less than this number, then the algorithm claims success. You may also want to adjust the parameter to allow for more error in the hopes of finding a shorter circuit. This will all depend on your environment and goals.\n",
    "\n",
    "\n",
    "**Exercise:** Try changing the success threshold in the following example. What do you expect will happen?"
   ]
  },
  {
   "cell_type": "code",
   "execution_count": null,
   "id": "18709a11",
   "metadata": {},
   "outputs": [],
   "source": [
    "# We can increase the success threshold allowing for greater error in the result\n",
    "# Note 1e-1 is a very high error\n",
    "configured_qsearch_pass = QSearchSynthesisPass(success_threshold=1e-1)\n",
    "\n",
    "# Create and execute a compilation task\n",
    "with Compiler() as compiler:\n",
    "    task = CompilationTask(circuit, [configured_qsearch_pass])\n",
    "    synthesized_circuit = compiler.compile(task)\n",
    "\n",
    "print(\"New Circuit CNOT Count:\", synthesized_circuit.count(CNOTGate()))\n",
    "out_utry = synthesized_circuit.get_unitary()\n",
    "print(\"New Circuit Error:\", out_utry.get_distance_from(toffoli_unitary))"
   ]
  },
  {
   "cell_type": "markdown",
   "id": "89c64764",
   "metadata": {},
   "source": [
    "### Gatesets and Layer Generation\n",
    "\n",
    "By default, the QSearch algorithm uses `U3Gate`s and `CNOTGate`s:"
   ]
  },
  {
   "cell_type": "code",
   "execution_count": null,
   "id": "f8ed7542",
   "metadata": {},
   "outputs": [],
   "source": [
    "synthesized_circuit.gate_set"
   ]
  },
  {
   "cell_type": "markdown",
   "id": "5c31fd02",
   "metadata": {},
   "source": [
    "This can be changed by configuring the way QSearch generates layers in the search tree. These options are entirely modular and fully customizable. QSearch uses a LayerGenerator object to generate the candidate circuits that make up its search space. By default, a layer generator that places CNOT and U3 gate blocks is used. We can easily swap out the single- and two- qubit gates used in the same layer generation algorithm, or we can write our own algorithm entirely. This can be done by subclassing `LayerGenerator` and implementing the API.\n",
    "\n",
    "**Exercise:** Modify the below code to produce a toffoli circuit using the gates of your choice. You can find the gates currently implemented in BQSKit [here](https://bqskit.readthedocs.io/en/latest/source/ir.html#bqskit-gates-bqskit-ir-gates) and you can learn how to implement your own [here](https://bqskit.readthedocs.io/en/latest/tutorials/Introduction%20to%20BQSKit%20IR.html). Which gate set produces the best result?"
   ]
  },
  {
   "cell_type": "code",
   "execution_count": null,
   "id": "b5e88027",
   "metadata": {},
   "outputs": [],
   "source": [
    "from bqskit.passes.search import SimpleLayerGenerator\n",
    "from bqskit.ir.gates import ISwapGate, PauliGate\n",
    "\n",
    "# We can use the same layer generation algorithm\n",
    "# and just change the gates used\n",
    "layer_gen = SimpleLayerGenerator(two_qudit_gate=ISwapGate(), single_qudit_gate_1=U3Gate())\n",
    "\n",
    "configured_qsearch_pass = QSearchSynthesisPass(layer_generator=layer_gen)\n",
    "\n",
    "# Create and execute a compilation task\n",
    "with Compiler() as compiler:\n",
    "    task = CompilationTask(circuit, [configured_qsearch_pass])\n",
    "    synthesized_circuit = compiler.compile(task)\n",
    "\n",
    "for gate in synthesized_circuit.gate_set:\n",
    "    print(f\"{gate} Count:\", synthesized_circuit.count(gate))"
   ]
  },
  {
   "cell_type": "markdown",
   "id": "8496aa52",
   "metadata": {},
   "source": [
    "#### Custom Layer Generation (Optional)\n",
    "\n",
    "We can customize the generation of layers even further. The `SimpleLayerGenerator` places building blocks composed of two-qudit gates followed by single-qudit gates, which has a history in practice. However, this entire flow is modular. The `LayerGenerator` API requires us to implement two methods `gen_initial_layer` and `gen_successors`. In the below example, we do something a bit more unnatural.\n",
    "\n",
    "For more information, see the API Documentation [here](https://bqskit.readthedocs.io/en/latest/source/autogen/bqskit.passes.LayerGenerator.html).\n",
    "\n",
    "**Exercise** Alter the below example to generate layers however you would like. Consider customizing the gate set, how successors are generated, and how you would implement topology-awareness here."
   ]
  },
  {
   "cell_type": "code",
   "execution_count": null,
   "id": "095645b5",
   "metadata": {},
   "outputs": [],
   "source": [
    "from bqskit.ir.gates import RXXGate, RYYGate, RZZGate, U3Gate\n",
    "from bqskit.passes.search import LayerGenerator\n",
    "\n",
    "class CustomLayerGenerator(LayerGenerator):\n",
    "    \n",
    "    def gen_initial_layer(self, target, data):\n",
    "        \"\"\"\n",
    "        Here we will generate the first circuit that seeds the search space.\n",
    "        \n",
    "        By default, the SimpleLayerGenerator places single-qudit gates\n",
    "        on each qudit. Here let's do something a little more crazy\n",
    "        to demonstrate the potential.\n",
    "        \"\"\"\n",
    "        \n",
    "        init_circuit = Circuit(target.num_qudits, target.radixes)\n",
    "        \n",
    "        # Place RXX Gates on consective pairs of qudits\n",
    "        for i in range(init_circuit.num_qudits - 1):\n",
    "            init_circuit.append_gate(RXXGate(), (i, i+1))\n",
    "        \n",
    "        return init_circuit\n",
    "    \n",
    "    def gen_successors(self, circuit, data):\n",
    "        \"\"\"\n",
    "        During the search, this will be called when expanding a node.\n",
    "        \n",
    "        By default, the SimpleLayerGenerator produces new circuits with\n",
    "        one more block of gates on each valid edge. Again, let's be\n",
    "        a little crazy here too.\n",
    "        \"\"\"\n",
    "        \n",
    "        base_successor = circuit.copy()\n",
    "        \n",
    "        # Apply a column of U3Gates\n",
    "        for i in range(base_successor.num_qudits):\n",
    "            base_successor.append_gate(U3Gate(), i)\n",
    "        \n",
    "        successors = []\n",
    "        \n",
    "        # Create 3 successors\n",
    "        # Each one has a line of a specific type of gate.\n",
    "        for gate in [RXXGate(), RYYGate(), RZZGate()]:\n",
    "            successor = base_successor.copy()\n",
    "            for i in range(base_successor.num_qudits - 1):\n",
    "                successor.append_gate(gate, (i, i+1))\n",
    "            successors.append(successor)\n",
    "\n",
    "        return successors\n",
    "\n",
    "    \n",
    "# We can now use this layer generator just like the simple one\n",
    "configured_qsearch_pass = QSearchSynthesisPass(layer_generator=CustomLayerGenerator())\n",
    "\n",
    "# Create and execute a compilation task\n",
    "with Compiler() as compiler:\n",
    "    task = CompilationTask(circuit, [configured_qsearch_pass])\n",
    "    synthesized_circuit = compiler.compile(task)\n",
    "    \n",
    "for gate in synthesized_circuit.gate_set:\n",
    "    print(f\"{gate} Count:\", synthesized_circuit.count(gate))"
   ]
  },
  {
   "cell_type": "markdown",
   "id": "c5c63b98",
   "metadata": {},
   "source": [
    "Note that what we do here might not produce the shortest circuits since we are adding more gates at each step, but one advantage is that the circuit grows quicker and will most likely converge quicker.\n",
    "\n",
    "This layer generation technique is will most likely be useful to synthesize larger unitaries quicker."
   ]
  },
  {
   "cell_type": "markdown",
   "id": "5668f87c",
   "metadata": {},
   "source": [
    "### Search Heuristics\n",
    "\n",
    "The QSearch algorithm was original designed for use with the A* search heuristic, but this is also configurable in BQSKit's implementation. The search heuristic determines the order in which candidate solutions are evaluated and expanded. There are three that are implemented for you: `AStarHeuristic`, `DijkstraHeuristic`, `GreedyHeuristic`. These also have an API that you can implement if you would like to customize it further.\n",
    "\n",
    "**Exercise:** Modify the below code to use the different heuristics. How do the results change?"
   ]
  },
  {
   "cell_type": "code",
   "execution_count": null,
   "id": "f79e7d30",
   "metadata": {},
   "outputs": [],
   "source": [
    "from bqskit.passes.search import AStarHeuristic, DijkstraHeuristic, GreedyHeuristic\n",
    "\n",
    "configured_qsearch_pass = QSearchSynthesisPass(heuristic_function=GreedyHeuristic())\n",
    "\n",
    "# Create and execute a compilation task\n",
    "with Compiler() as compiler:\n",
    "    task = CompilationTask(circuit, [configured_qsearch_pass])\n",
    "    synthesized_circuit = compiler.compile(task)\n",
    "    \n",
    "for gate in synthesized_circuit.gate_set:\n",
    "    print(f\"{gate} Count:\", synthesized_circuit.count(gate))"
   ]
  },
  {
   "cell_type": "markdown",
   "id": "353a9830",
   "metadata": {},
   "source": [
    "## Topology-Aware Synthesis\n",
    "\n",
    "Everything that we have done so far has been purely virtual. There has been no concept of a physical quantum processor and the restrictions that come with using a real one. We can program the BQSKit workflow with information about a physical machine; Our synthesis tools will take advantage of this information and produce circuits that are already mapped to a machine's topology.\n",
    "\n",
    "**Note:** For search-based synthesizers this is programmed in the layer generator. If you would like to continue using a custom one from a previous exercise, you can implement topology awareness in there. Take a look at the source code for the `SimpleLayerGenerator` to see how it is done there."
   ]
  },
  {
   "cell_type": "code",
   "execution_count": null,
   "id": "e69e9719",
   "metadata": {},
   "outputs": [],
   "source": [
    "from bqskit.compiler import MachineModel\n",
    "from bqskit.passes import SimpleLayoutPass\n",
    "\n",
    "# A MachineModel object models a physical machine\n",
    "# Here model is a three-qubit model with a linear topology\n",
    "model = MachineModel(3, [(0, 1), (1, 2)])\n",
    "\n",
    "# We use a layout pass to:\n",
    "#    1) associate a MachineModel with the compiler flow\n",
    "#    2) assign logical to physical qudits\n",
    "task = CompilationTask(circuit, [\n",
    "    SimpleLayoutPass(model),\n",
    "    QSearchSynthesisPass(),\n",
    "])\n",
    "\n",
    "with Compiler() as compiler:\n",
    "    synthesized_circuit = compiler.compile(task)\n",
    "    \n",
    "print(\"Circuit Coupling Graph:\", synthesized_circuit.coupling_graph)\n",
    "for gate in synthesized_circuit.gate_set:\n",
    "    print(f\"{gate} Count:\", synthesized_circuit.count(gate))"
   ]
  },
  {
   "cell_type": "markdown",
   "id": "e2e22c63",
   "metadata": {},
   "source": [
    "## The LEAP Algorithm\n",
    "\n",
    "The LEAP algorithm implemented in BQSKit supports the exact same features as QSearch. The search algorithm is just slightly different to encourage deeper searches rather than wider ones.\n",
    "\n",
    "**Exercise:** Run the below example, how does the synthesized toffoli circuit differ when compiled with LEAP vs QSearch. Modify the example, making use of all the options you learned for QSearch."
   ]
  },
  {
   "cell_type": "code",
   "execution_count": null,
   "id": "31c97b56",
   "metadata": {},
   "outputs": [],
   "source": [
    "from bqskit.passes import LEAPSynthesisPass\n",
    "\n",
    "task = CompilationTask(circuit, [LEAPSynthesisPass()])\n",
    "\n",
    "with Compiler() as compiler:\n",
    "    synthesized_circuit = compiler.compile(task)\n",
    "    \n",
    "for gate in synthesized_circuit.gate_set:\n",
    "    print(f\"{gate} Count:\", synthesized_circuit.count(gate))"
   ]
  },
  {
   "cell_type": "markdown",
   "id": "bb7db41b",
   "metadata": {},
   "source": [
    "## Practice Putting It Together\n",
    "\n",
    "**Exercise:** Three unitaries of different sizes are hardcoded below. Try experiment with different configurations of search based synthesis. Some general tips:\n",
    "\n",
    "- LEAP will generally be faster with a slight hit to circuit depth\n",
    "- Use of more expressive gates will usually converge quicker but produce longer circuits\n",
    "- Search strategies that explore deeper into the circuit space quicker will often times converge quicker\n",
    "- Using off-the-shelf QSearch on a 5-qubit unitary likely will not converge\n",
    "- If you want the best results, it will take experimentation"
   ]
  },
  {
   "cell_type": "code",
   "execution_count": null,
   "id": "fb632d70",
   "metadata": {},
   "outputs": [],
   "source": [
    "# Three qubit fredkin or Controlled-Swap gate\n",
    "fredkin_unitary = UnitaryMatrix([\n",
    "    [1, 0, 0, 0, 0, 0, 0, 0],\n",
    "    [0, 1, 0, 0, 0, 0, 0, 0],\n",
    "    [0, 0, 1, 0, 0, 0, 0, 0],\n",
    "    [0, 0, 0, 1, 0, 0, 0, 0],\n",
    "    [0, 0, 0, 0, 1, 0, 0, 0],\n",
    "    [0, 0, 0, 0, 0, 0, 1, 0],\n",
    "    [0, 0, 0, 0, 0, 1, 0, 0],\n",
    "    [0, 0, 0, 0, 0, 0, 0, 1],\n",
    "])\n",
    "\n",
    "# X-Gate with three controls (CCCX)\n",
    "cccx_unitary = UnitaryMatrix([\n",
    "    [1, 0, 0, 0, 0, 0, 0, 0, 0, 0, 0, 0, 0, 0, 0, 0],\n",
    "    [0, 1, 0, 0, 0, 0, 0, 0, 0, 0, 0, 0, 0, 0, 0, 0],\n",
    "    [0, 0, 1, 0, 0, 0, 0, 0, 0, 0, 0, 0, 0, 0, 0, 0],\n",
    "    [0, 0, 0, 1, 0, 0, 0, 0, 0, 0, 0, 0, 0, 0, 0, 0],\n",
    "    [0, 0, 0, 0, 1, 0, 0, 0, 0, 0, 0, 0, 0, 0, 0, 0],\n",
    "    [0, 0, 0, 0, 0, 1, 0, 0, 0, 0, 0, 0, 0, 0, 0, 0],\n",
    "    [0, 0, 0, 0, 0, 0, 1, 0, 0, 0, 0, 0, 0, 0, 0, 0],\n",
    "    [0, 0, 0, 0, 0, 0, 0, 1, 0, 0, 0, 0, 0, 0, 0, 0],\n",
    "    [0, 0, 0, 0, 0, 0, 0, 0, 1, 0, 0, 0, 0, 0, 0, 0],\n",
    "    [0, 0, 0, 0, 0, 0, 0, 0, 0, 1, 0, 0, 0, 0, 0, 0],\n",
    "    [0, 0, 0, 0, 0, 0, 0, 0, 0, 0, 1, 0, 0, 0, 0, 0],\n",
    "    [0, 0, 0, 0, 0, 0, 0, 0, 0, 0, 0, 1, 0, 0, 0, 0],\n",
    "    [0, 0, 0, 0, 0, 0, 0, 0, 0, 0, 0, 0, 1, 0, 0, 0],\n",
    "    [0, 0, 0, 0, 0, 0, 0, 0, 0, 0, 0, 0, 0, 1, 0, 0],\n",
    "    [0, 0, 0, 0, 0, 0, 0, 0, 0, 0, 0, 0, 0, 0, 0, 1],\n",
    "    [0, 0, 0, 0, 0, 0, 0, 0, 0, 0, 0, 0, 0, 0, 1, 0],\n",
    "])\n",
    "\n",
    "# An XXXXX(np.pi/4) rotation\n",
    "import math\n",
    "xxxxx_unitary = PauliGate(5).get_unitary([math.pi/4 if i == 341 else 0 for i in range(4**5)])"
   ]
  },
  {
   "cell_type": "code",
   "execution_count": null,
   "id": "a211ecb5",
   "metadata": {},
   "outputs": [],
   "source": [
    "# Change this to other unitaries\n",
    "circuit = Circuit.from_unitary(fredkin_unitary)\n",
    "\n",
    "task = CompilationTask(circuit, [\n",
    "    # Build your own compiler workflow here\n",
    "])\n",
    "\n",
    "with Compiler() as compiler:\n",
    "    synthesized_circuit = compiler.compile(task)\n",
    "    \n",
    "for gate in synthesized_circuit.gate_set:\n",
    "    print(f\"{gate} Count:\", synthesized_circuit.count(gate))"
   ]
  },
  {
   "cell_type": "markdown",
   "id": "89854441",
   "metadata": {},
   "source": [
    "## Search-less Synthesis\n",
    "\n",
    "BQSKit implements the QFAST algorithm, which is portable and topology-aware as well. Let's look at a simple example:"
   ]
  },
  {
   "cell_type": "code",
   "execution_count": null,
   "id": "cb3668fe",
   "metadata": {},
   "outputs": [],
   "source": [
    "from bqskit.passes import QFASTDecompositionPass\n",
    "\n",
    "# Encode the toffoli unitary\n",
    "toffoli_unitary = UnitaryMatrix([\n",
    "    [1, 0, 0, 0, 0, 0, 0, 0],\n",
    "    [0, 1, 0, 0, 0, 0, 0, 0],\n",
    "    [0, 0, 1, 0, 0, 0, 0, 0],\n",
    "    [0, 0, 0, 1, 0, 0, 0, 0],\n",
    "    [0, 0, 0, 0, 1, 0, 0, 0],\n",
    "    [0, 0, 0, 0, 0, 1, 0, 0],\n",
    "    [0, 0, 0, 0, 0, 0, 0, 1],\n",
    "    [0, 0, 0, 0, 0, 0, 1, 0],\n",
    "])\n",
    "\n",
    "# Inputs to the BQSKit compiler must be a circuit\n",
    "# So first we place the toffoli unitary into a circuit\n",
    "# Note: NumPy arrays are interchangable with UnitaryMatrix objects\n",
    "circuit = Circuit.from_unitary(toffoli_unitary)\n",
    "\n",
    "# We must now tell the compiler that we would like to execute QFAST\n",
    "# This is done by creating a CompilationTask with the circuit as the input\n",
    "# and only a QFASTDecompositionPass object in the workflow.\n",
    "task = CompilationTask(circuit, [QFASTDecompositionPass()])\n",
    "\n",
    "# Finally, we construct a compiler and submit the task\n",
    "with Compiler() as compiler:\n",
    "    synthesized_circuit = compiler.compile(task)\n",
    "    \n",
    "for gate in synthesized_circuit.gate_set:\n",
    "    print(f\"{gate} Count:\", synthesized_circuit.count(gate))"
   ]
  },
  {
   "cell_type": "markdown",
   "id": "a91e08f4",
   "metadata": {},
   "source": [
    "Notice the resulting circuit is composed of `PauliGate`s, an encoding of a general unitary gate.\n",
    "To go all the way to native gates, QFAST needs to be followed by another synthesis tool.\n",
    "In the below example after QFAST is called, each block is synthesized with QSearch:"
   ]
  },
  {
   "cell_type": "code",
   "execution_count": null,
   "id": "d3e70ffe",
   "metadata": {},
   "outputs": [],
   "source": [
    "from bqskit.passes import ForEachBlockPass\n",
    "from bqskit.passes import QSearchSynthesisPass\n",
    "from bqskit.passes import UnfoldPass\n",
    "\n",
    "task = CompilationTask(circuit, [\n",
    "    QFASTDecompositionPass(),\n",
    "    ForEachBlockPass([QSearchSynthesisPass()]),\n",
    "    UnfoldPass(),\n",
    "])\n",
    "# ForEachBlockPass will run it's argument passes on each block\n",
    "# The UnfoldPass will then unroll the synthesized blocks\n",
    "# Without the unfold pass, the synthesized blocks will\n",
    "# still be grouped\n",
    "\n",
    "# Finally, we construct a compiler and submit the task\n",
    "with Compiler() as compiler:\n",
    "    synthesized_circuit = compiler.compile(task)\n",
    "    \n",
    "for gate in synthesized_circuit.gate_set:\n",
    "    print(f\"{gate} Count:\", synthesized_circuit.count(gate))"
   ]
  },
  {
   "cell_type": "markdown",
   "id": "5a0215e2",
   "metadata": {},
   "source": [
    "One easy optimization that can lead to shorter circuits with little cost is the `ScanningGateRemovalPass`. This pass will attempt to remove gates one-by-one, and is often successful with QFAST.\n",
    "\n",
    "**Exercise:** Try to place the `ScanningGateRemovalPass` in different parts of the compilation flow. How many place where you successfully able to place a `ScanningGateRemovalPass`?"
   ]
  },
  {
   "cell_type": "code",
   "execution_count": null,
   "id": "24098a4a",
   "metadata": {},
   "outputs": [],
   "source": [
    "from bqskit.passes import ScanningGateRemovalPass\n",
    "\n",
    "task = CompilationTask(circuit, [\n",
    "    QFASTDecompositionPass(),\n",
    "    ForEachBlockPass([QSearchSynthesisPass()]),\n",
    "    UnfoldPass(),\n",
    "    ScanningGateRemovalPass(),\n",
    "])\n",
    "\n",
    "# Construct a compiler and submit the task\n",
    "with Compiler() as compiler:\n",
    "    synthesized_circuit = compiler.compile(task)\n",
    "    \n",
    "for gate in synthesized_circuit.gate_set:\n",
    "    print(f\"{gate} Count:\", synthesized_circuit.count(gate))"
   ]
  },
  {
   "cell_type": "markdown",
   "id": "e37652d2",
   "metadata": {},
   "source": [
    "### Accuracy\n",
    "\n",
    "Similar to QSearch and LEAP, the `success_threshold` parameter can be adjusted to allow for more or less approximation.\n",
    "It is important to note that QFAST is more numerically unstable than QSearch and LEAP, and as a result, optimization cannot always produce results below a certain threshold.\n",
    "\n",
    "**Exercise:** Try changing the success threshold in the following example. What do you expect will happen? Note that both `QSearchSynthesisPass` and `ScanningGateRemovalPass` also have `success_threshold` parameters. Try adjusting all of them."
   ]
  },
  {
   "cell_type": "code",
   "execution_count": null,
   "id": "90ddb580",
   "metadata": {},
   "outputs": [],
   "source": [
    "# We can increase the success threshold allowing for greater error in the result\n",
    "# Note 1e-1 is a very high error\n",
    "configured_qfast_pass = QFASTDecompositionPass(success_threshold=1e-1)\n",
    "\n",
    "task = CompilationTask(circuit, [\n",
    "    configured_qfast_pass,\n",
    "    ForEachBlockPass([QSearchSynthesisPass()]),\n",
    "    UnfoldPass(),\n",
    "    ScanningGateRemovalPass(),\n",
    "])\n",
    "\n",
    "# Create and execute a compilation task\n",
    "with Compiler() as compiler:\n",
    "    synthesized_circuit = compiler.compile(task)\n",
    "\n",
    "for gate in synthesized_circuit.gate_set:\n",
    "    print(f\"{gate} Count:\", synthesized_circuit.count(gate))\n",
    "    \n",
    "out_utry = synthesized_circuit.get_unitary()\n",
    "print(\"New Circuit Error:\", out_utry.get_distance_from(toffoli_unitary))"
   ]
  },
  {
   "cell_type": "markdown",
   "id": "52bacdbf",
   "metadata": {},
   "source": [
    "### Model Restrictions\n",
    "\n",
    "The QFAST algorithm ensures that with each extra gate added the distance to the target decreases by a little amount. This is done to ensure that progress is made; if adding a gate does not reduce the distance sufficiently, then the gate is removed and the valid locations are temporarily restricted. Doing this ensures better quality results when using QFAST, but it can slow down the algorithm by preventing it from reaching deep into the circuit space quickly. With circuits that are expected to be deep, it might be useful to lower the `progress_threshold` or even to disable it by setting it negative.\n",
    "\n",
    "**Exercise:** Try adjusting the progress_threshold."
   ]
  },
  {
   "cell_type": "code",
   "execution_count": null,
   "id": "30f107eb",
   "metadata": {},
   "outputs": [],
   "source": [
    "configured_qfast_pass = QFASTDecompositionPass(progress_threshold=-1)\n",
    "\n",
    "task = CompilationTask(circuit, [\n",
    "    configured_qfast_pass,\n",
    "    ForEachBlockPass([QSearchSynthesisPass()]),\n",
    "    UnfoldPass(),\n",
    "])\n",
    "\n",
    "# Create and execute a compilation task\n",
    "with Compiler() as compiler:\n",
    "    synthesized_circuit = compiler.compile(task)\n",
    "\n",
    "for gate in synthesized_circuit.gate_set:\n",
    "    print(f\"{gate} Count:\", synthesized_circuit.count(gate))"
   ]
  },
  {
   "cell_type": "markdown",
   "id": "35e44d13",
   "metadata": {},
   "source": [
    "### Function Encoding\n",
    "\n",
    "While the key idea in the QFAST algorithm is using a variable location encoding of a gate,\n",
    "the gate's function still needs to be encoded as well.\n",
    "The original algorithm uses an expressive general unitary gate encoded in a `PauliGate`,\n",
    "but this can be changed entirely. By default, a 2-qubit PauliGate is used. The size of the\n",
    "`PauliGate` can be changed, or the gate can be swapped out for something else. Keep in mind,\n",
    "that the gate will need be to universal.\n",
    "\n",
    "**Exercise:** Try adjusting the gate QFAST uses to encode function in the below example:"
   ]
  },
  {
   "cell_type": "code",
   "execution_count": null,
   "id": "984a92ed",
   "metadata": {},
   "outputs": [],
   "source": [
    "from bqskit.ir.gates import CYGate\n",
    "from bqskit.ir.gates import U3Gate\n",
    "from bqskit.ir.gates import CircuitGate\n",
    "\n",
    "# We will group together a few gates in  side of a CircuitGate\n",
    "# We can then pass the group into QFAST\n",
    "gate_group = Circuit(2)\n",
    "gate_group.append_gate(CYGate(), (0, 1))\n",
    "gate_group.append_gate(U3Gate(), 0)\n",
    "gate_group.append_gate(U3Gate(), 1)\n",
    "grouped_gate = CircuitGate(gate_group)\n",
    "\n",
    "configured_qfast_pass = QFASTDecompositionPass(gate=grouped_gate)\n",
    "\n",
    "task = CompilationTask(circuit, [\n",
    "    configured_qfast_pass,\n",
    "    UnfoldPass(),\n",
    "])\n",
    "\n",
    "# Create and execute a compilation task\n",
    "with Compiler() as compiler:\n",
    "    synthesized_circuit = compiler.compile(task)\n",
    "\n",
    "for gate in synthesized_circuit.gate_set:\n",
    "    print(f\"{gate} Count:\", synthesized_circuit.count(gate))"
   ]
  },
  {
   "cell_type": "markdown",
   "id": "972a1340",
   "metadata": {},
   "source": [
    "Note that when we use native gates directly, we do not need QSearch inside of a `ForEachBlockPass`."
   ]
  },
  {
   "cell_type": "markdown",
   "id": "d0edf323",
   "metadata": {},
   "source": [
    "### Putting It Together\n",
    "\n",
    "**Exercise:** Try synthesizing the previous three hardcoded unitaries with QFAST. Try experiment with different configurations of QFAST. Some general tips:\n",
    "\n",
    "- Larger blocks, e.g. `PauliGate(3)`, will usually converge quicker but produce longer circuits\n",
    "- Less expressive gates will usually converge slower but produce better circuits\n",
    "- Lowering `progress_threshold` and raising `success_threshold` will speed up synthesis\n",
    "- If you want the best results, it will take experimentation"
   ]
  },
  {
   "cell_type": "code",
   "execution_count": null,
   "id": "5d44e160",
   "metadata": {},
   "outputs": [],
   "source": [
    "# Change this to other unitaries\n",
    "circuit = Circuit.from_unitary(fredkin_unitary)\n",
    "\n",
    "task = CompilationTask(circuit, [\n",
    "    # Build your own compiler workflow here\n",
    "])\n",
    "\n",
    "with Compiler() as compiler:\n",
    "    synthesized_circuit = compiler.compile(task)\n",
    "    \n",
    "for gate in synthesized_circuit.gate_set:\n",
    "    print(f\"{gate} Count:\", synthesized_circuit.count(gate))"
   ]
  },
  {
   "cell_type": "markdown",
   "id": "d9bc86cf",
   "metadata": {},
   "source": [
    "## Using Partitioning to Optimize a Circuit\n",
    "\n",
    "Synthesis is a very powerful circuit optimization technique. However, the input size to even QFAST doesn't scale to larger circuits well. In fact, to be able to synthesize a circuit currently, we will need to be able to simulate it. This will ultimately cap the scaling of synthesis algorithms. However, we can still use a synthesis tool together with partitioner to optimize small blocks of a circuit at a time. BQSKit was designed for this exact use case."
   ]
  },
  {
   "cell_type": "code",
   "execution_count": null,
   "id": "c91fbca1",
   "metadata": {},
   "outputs": [],
   "source": [
    "# Load a 16-qubit time evolution circuit generated from the ArQTIC circuit generator.\n",
    "circuit = Circuit.from_file('heisenberg-16-20.qasm')\n",
    "\n",
    "for gate in circuit.gate_set:\n",
    "    print(f\"{gate} Count:\", circuit.count(gate))"
   ]
  },
  {
   "cell_type": "markdown",
   "id": "898d1434",
   "metadata": {},
   "source": [
    "We will partition the circuit and then use the ForEachBlockPass to perform operations on the individual blocks. Note the ForEachBlockPass will run the sub tasks in parallel using dask."
   ]
  },
  {
   "cell_type": "code",
   "execution_count": null,
   "id": "7c9939a8",
   "metadata": {},
   "outputs": [],
   "source": [
    "from bqskit.compiler import CompilationTask\n",
    "from bqskit.compiler import Compiler\n",
    "from bqskit.passes import QuickPartitioner\n",
    "from bqskit.passes import ForEachBlockPass\n",
    "from bqskit.passes import QSearchSynthesisPass\n",
    "from bqskit.passes import ScanningGateRemovalPass\n",
    "from bqskit.passes import UnfoldPass\n",
    "\n",
    "task = CompilationTask(circuit, [\n",
    "    QuickPartitioner(3),\n",
    "    ForEachBlockPass([QSearchSynthesisPass(), ScanningGateRemovalPass()]),\n",
    "    UnfoldPass(),\n",
    "])\n",
    "\n",
    "with Compiler() as compiler:\n",
    "    synthesized_circuit = compiler.compile(task)\n",
    "    \n",
    "for gate in synthesized_circuit.gate_set:\n",
    "    print(f\"{gate} Count:\", synthesized_circuit.count(gate))"
   ]
  },
  {
   "cell_type": "markdown",
   "id": "3034d45b",
   "metadata": {},
   "source": [
    "### Replace Filters\n",
    "\n",
    "The `ForEachBlockPass` takes an optional parameter `replace_filter` that determines if the circuit resulting from running the input passes on the original block should replace the original block. In the below example, we alter the above flow to only replace a block if it has fewer two-qubit gates as a result of running `QSearchSynthesisPass` and `ScanningGateRemovalPass`.\n",
    "\n",
    "**Exercise:** Try changing the replace filter to suite your needs. You might want to select circuits with greater parallelism: `circuit.parallelism` or choose based on depth `circuit.depth`. "
   ]
  },
  {
   "cell_type": "code",
   "execution_count": null,
   "id": "95eaa5bb",
   "metadata": {},
   "outputs": [],
   "source": [
    "from bqskit.ir.gates import CXGate\n",
    "\n",
    "def less_2q_gates(result_circuit, initial_block_as_op):\n",
    "    begin_cx_count = initial_block_as_op.gate._circuit.count(CXGate())\n",
    "    end_cx_count = result_circuit.count(CXGate())\n",
    "    return end_cx_count < begin_cx_count\n",
    "\n",
    "task = CompilationTask(circuit, [\n",
    "    QuickPartitioner(3),\n",
    "    ForEachBlockPass(\n",
    "        [QSearchSynthesisPass(), ScanningGateRemovalPass()],\n",
    "        replace_filter=less_2q_gates\n",
    "    ),\n",
    "    UnfoldPass(),\n",
    "])\n",
    "\n",
    "# Finally, we construct a compiler and submit the task\n",
    "with Compiler() as compiler:\n",
    "    synthesized_circuit = compiler.compile(task)\n",
    "    \n",
    "for gate in synthesized_circuit.gate_set:\n",
    "    print(f\"{gate} Count:\", synthesized_circuit.count(gate))"
   ]
  },
  {
   "cell_type": "markdown",
   "id": "c6dee1cb",
   "metadata": {},
   "source": [
    "### Gatesets\n",
    "\n",
    "Just like we changed the gates used by QSearch in the Search Synthesis tutorial, we can change the gates for the entire circuit using the same method.\n",
    "\n",
    "**Exercise:** Change the gates used in the below example to change the gate set for the circuit."
   ]
  },
  {
   "cell_type": "code",
   "execution_count": null,
   "id": "25ee64ac",
   "metadata": {},
   "outputs": [],
   "source": [
    "from bqskit.ir.gates import ISwapGate, U3Gate\n",
    "from bqskit.passes.search import SimpleLayerGenerator\n",
    "\n",
    "layer_gen = SimpleLayerGenerator(two_qudit_gate=ISwapGate(), single_qudit_gate_1=U3Gate())\n",
    "\n",
    "configured_qsearch_pass = QSearchSynthesisPass(layer_generator=layer_gen)\n",
    "\n",
    "task = CompilationTask(circuit, [\n",
    "    QuickPartitioner(3),\n",
    "    ForEachBlockPass([configured_qsearch_pass, ScanningGateRemovalPass()]),\n",
    "    UnfoldPass(),\n",
    "])\n",
    "\n",
    "with Compiler() as compiler:\n",
    "    synthesized_circuit = compiler.compile(task)\n",
    "    \n",
    "for gate in synthesized_circuit.gate_set:\n",
    "    print(f\"{gate} Count:\", synthesized_circuit.count(gate))"
   ]
  },
  {
   "cell_type": "markdown",
   "id": "bfc81a52",
   "metadata": {},
   "source": [
    "### Block Size\n",
    "\n",
    "Increasing the partitioner's block size will likely lead to better results at a runtime cost. If you have the computing resources, you can launch a Dask cluster and connect to it via `Compiler()`. The ForEachBlockPass will efficiently distribute the work. See the [Dask documentation](https://docs.dask.org/en/stable/setup.html) for how to launch a cluster."
   ]
  },
  {
   "cell_type": "code",
   "execution_count": null,
   "id": "75aa49b8",
   "metadata": {},
   "outputs": [],
   "source": [
    "from bqskit.passes import OptimizedLEAPPass\n",
    "\n",
    "\n",
    "task = CompilationTask(circuit, [\n",
    "    QuickPartitioner(4),\n",
    "    ForEachBlockPass([OptimizedLEAPPass]),\n",
    "    UnfoldPass(),\n",
    "])\n",
    "\n",
    "with Compiler() as compiler:\n",
    "    synthesized_circuit = compiler.compile(task)\n",
    "    \n",
    "for gate in synthesized_circuit.gate_set:\n",
    "    print(f\"{gate} Count:\", synthesized_circuit.count(gate))"
   ]
  },
  {
   "cell_type": "markdown",
   "id": "7417d2df",
   "metadata": {},
   "source": [
    "### Iterative Optimization\n",
    "\n",
    "We have provided support for passes that manage control flow. This enables us to conditionally apply passes or to apply them in a loop. In the below example we will run the partitioning and synthesis sequence in a loop until the circuit stops decreasing in 2-qubit gate count."
   ]
  },
  {
   "cell_type": "code",
   "execution_count": null,
   "id": "17c23296",
   "metadata": {},
   "outputs": [],
   "source": [
    "from bqskit.compiler import BasePass\n",
    "from bqskit.passes import WhileLoopPass, GateCountPredicate\n",
    "from bqskit.ir.gates import CXGate\n",
    "\n",
    "# Defining a new pass is as easy as implementing a `run` function.\n",
    "# In this pass, we just print some information about the circuit\n",
    "class PrintCNOTsPass(BasePass):\n",
    "    def run(self, circuit, data) -> None:\n",
    "        print(\"Current CNOT count:\", circuit.count(CXGate()), end='\\r')\n",
    "\n",
    "task = CompilationTask(circuit, [\n",
    "    PrintCNOTsPass(),\n",
    "    WhileLoopPass(\n",
    "        GateCountPredicate(CXGate()),\n",
    "        [\n",
    "            QuickPartitioner(3),\n",
    "            ForEachBlockPass(\n",
    "                [\n",
    "                    QSearchSynthesisPass(),\n",
    "                    ScanningGateRemovalPass()\n",
    "                ],\n",
    "                replace_filter=less_2q_gates\n",
    "            ),\n",
    "            UnfoldPass(),\n",
    "            PrintCNOTsPass(),\n",
    "        ]\n",
    "    )\n",
    "])\n",
    "\n",
    "with Compiler() as compiler:\n",
    "    synthesized_circuit = compiler.compile(task)\n",
    "    \n",
    "for gate in synthesized_circuit.gate_set:\n",
    "    print(f\"{gate} Count:\", synthesized_circuit.count(gate))"
   ]
  },
  {
   "cell_type": "markdown",
   "id": "44d4acd7",
   "metadata": {},
   "source": [
    "There's a lot new in the above example. First, we defined a new pass by subclassing `BasePass` and implementing a `run` method. This pass just prints the number of Controlled-not gates in the circuit when executed. We then use this before and inside a `WhileLoopPass` to see the progress of execution. Second, we perform a `WhileLoopPass` which takes a predicate and a sequence of passes. It will apply the passes supplied until the predicate produces false. We supplied a `GateCountPredicate` which evaluates to False when the specific gate count stops changing."
   ]
  },
  {
   "cell_type": "code",
   "execution_count": null,
   "id": "4b07a6de",
   "metadata": {},
   "outputs": [],
   "source": []
  }
 ],
 "metadata": {
  "kernelspec": {
   "display_name": "Python 3 (ipykernel)",
   "language": "python",
   "name": "python3"
  },
  "language_info": {
   "codemirror_mode": {
    "name": "ipython",
    "version": 3
   },
   "file_extension": ".py",
   "mimetype": "text/x-python",
   "name": "python",
   "nbconvert_exporter": "python",
   "pygments_lexer": "ipython3",
   "version": "3.9.7"
  }
 },
 "nbformat": 4,
 "nbformat_minor": 5
}
